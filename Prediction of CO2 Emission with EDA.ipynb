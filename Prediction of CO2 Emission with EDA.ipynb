{
 "cells": [
  {
   "cell_type": "markdown",
   "metadata": {},
   "source": [
    "# Machine Learning Models for Prediction of CO2 Emission with Exploratory Data Analysis "
   ]
  },
  {
   "cell_type": "code",
   "execution_count": 1,
   "metadata": {
    "colab": {
     "base_uri": "https://localhost:8080/"
    },
    "id": "bJCRWoJCjTF2",
    "outputId": "064db310-6f5d-416e-c598-c4f3793fb547"
   },
   "outputs": [],
   "source": [
    "import pandas as pd\n",
    "import numpy as np\n",
    "import matplotlib.pyplot as plt\n",
    "plt.style.use('fivethirtyeight')\n",
    "import seaborn as sns\n",
    "import numpy.random as nr #for random seed\n",
    "from sklearn.preprocessing import StandardScaler\n",
    "from sklearn import feature_selection as fs\n",
    "from sklearn import model_selection as ms\n",
    "from sklearn.ensemble import RandomForestRegressor\n",
    "from sklearn.neighbors import KNeighborsRegressor\n",
    "from sklearn.metrics import r2_score, mean_absolute_error, mean_squared_error\n",
    "from statsmodels.stats.outliers_influence import variance_inflation_factor\n",
    "from math import sqrt\n",
    "import warnings \n",
    "warnings.filterwarnings('ignore')\n",
    "import random\n",
    "#for maintaining randomness\n",
    "random_state = 1\n"
   ]
  },
  {
   "cell_type": "code",
   "execution_count": 2,
   "metadata": {
    "id": "gPouQllDqSga"
   },
   "outputs": [],
   "source": [
    "# define file name\n",
    "file_name = \"Dataset.csv\"\n",
    "\n",
    "# read file from csv to pandas DataFrame\n",
    "df = pd.read_csv(file_name)\n"
   ]
  },
  {
   "cell_type": "code",
   "execution_count": 3,
   "metadata": {},
   "outputs": [
    {
     "data": {
      "text/html": [
       "<div>\n",
       "<style scoped>\n",
       "    .dataframe tbody tr th:only-of-type {\n",
       "        vertical-align: middle;\n",
       "    }\n",
       "\n",
       "    .dataframe tbody tr th {\n",
       "        vertical-align: top;\n",
       "    }\n",
       "\n",
       "    .dataframe thead th {\n",
       "        text-align: right;\n",
       "    }\n",
       "</style>\n",
       "<table border=\"1\" class=\"dataframe\">\n",
       "  <thead>\n",
       "    <tr style=\"text-align: right;\">\n",
       "      <th></th>\n",
       "      <th>country</th>\n",
       "      <th>year</th>\n",
       "      <th>co2</th>\n",
       "      <th>coal_co2</th>\n",
       "      <th>cement_co2</th>\n",
       "      <th>gas_co2</th>\n",
       "      <th>oil_co2</th>\n",
       "      <th>methane</th>\n",
       "      <th>population</th>\n",
       "      <th>gdp</th>\n",
       "      <th>primary_energy_consumption</th>\n",
       "    </tr>\n",
       "  </thead>\n",
       "  <tbody>\n",
       "    <tr>\n",
       "      <th>0</th>\n",
       "      <td>Afghanistan</td>\n",
       "      <td>1991</td>\n",
       "      <td>2.427</td>\n",
       "      <td>0.249</td>\n",
       "      <td>0.046</td>\n",
       "      <td>0.388</td>\n",
       "      <td>1.718</td>\n",
       "      <td>9.07</td>\n",
       "      <td>13299016.0</td>\n",
       "      <td>1.204736e+10</td>\n",
       "      <td>1.365100e+01</td>\n",
       "    </tr>\n",
       "    <tr>\n",
       "      <th>1</th>\n",
       "      <td>Afghanistan</td>\n",
       "      <td>1992</td>\n",
       "      <td>1.379</td>\n",
       "      <td>0.022</td>\n",
       "      <td>0.046</td>\n",
       "      <td>0.363</td>\n",
       "      <td>0.927</td>\n",
       "      <td>9.00</td>\n",
       "      <td>14485543.0</td>\n",
       "      <td>1.267754e+10</td>\n",
       "      <td>8.961000e+00</td>\n",
       "    </tr>\n",
       "    <tr>\n",
       "      <th>2</th>\n",
       "      <td>Afghanistan</td>\n",
       "      <td>1993</td>\n",
       "      <td>1.333</td>\n",
       "      <td>0.018</td>\n",
       "      <td>0.047</td>\n",
       "      <td>0.352</td>\n",
       "      <td>0.894</td>\n",
       "      <td>8.90</td>\n",
       "      <td>15816601.0</td>\n",
       "      <td>9.834581e+09</td>\n",
       "      <td>8.935000e+00</td>\n",
       "    </tr>\n",
       "    <tr>\n",
       "      <th>3</th>\n",
       "      <td>Afghanistan</td>\n",
       "      <td>1994</td>\n",
       "      <td>1.282</td>\n",
       "      <td>0.015</td>\n",
       "      <td>0.047</td>\n",
       "      <td>0.338</td>\n",
       "      <td>0.860</td>\n",
       "      <td>8.97</td>\n",
       "      <td>17075728.0</td>\n",
       "      <td>7.919857e+09</td>\n",
       "      <td>8.617000e+00</td>\n",
       "    </tr>\n",
       "    <tr>\n",
       "      <th>4</th>\n",
       "      <td>Afghanistan</td>\n",
       "      <td>1995</td>\n",
       "      <td>1.230</td>\n",
       "      <td>0.015</td>\n",
       "      <td>0.047</td>\n",
       "      <td>0.322</td>\n",
       "      <td>0.824</td>\n",
       "      <td>9.15</td>\n",
       "      <td>18110662.0</td>\n",
       "      <td>1.230753e+10</td>\n",
       "      <td>7.246000e+00</td>\n",
       "    </tr>\n",
       "    <tr>\n",
       "      <th>...</th>\n",
       "      <td>...</td>\n",
       "      <td>...</td>\n",
       "      <td>...</td>\n",
       "      <td>...</td>\n",
       "      <td>...</td>\n",
       "      <td>...</td>\n",
       "      <td>...</td>\n",
       "      <td>...</td>\n",
       "      <td>...</td>\n",
       "      <td>...</td>\n",
       "      <td>...</td>\n",
       "    </tr>\n",
       "    <tr>\n",
       "      <th>6586</th>\n",
       "      <td>Zimbabwe</td>\n",
       "      <td>2016</td>\n",
       "      <td>10.738</td>\n",
       "      <td>6.959</td>\n",
       "      <td>0.639</td>\n",
       "      <td>3.139</td>\n",
       "      <td>3.139</td>\n",
       "      <td>11.92</td>\n",
       "      <td>14030338.0</td>\n",
       "      <td>2.096179e+10</td>\n",
       "      <td>4.750000e+01</td>\n",
       "    </tr>\n",
       "    <tr>\n",
       "      <th>6587</th>\n",
       "      <td>Zimbabwe</td>\n",
       "      <td>2017</td>\n",
       "      <td>9.582</td>\n",
       "      <td>5.665</td>\n",
       "      <td>0.678</td>\n",
       "      <td>3.239</td>\n",
       "      <td>3.239</td>\n",
       "      <td>14236599.00</td>\n",
       "      <td>14236599.0</td>\n",
       "      <td>2.194784e+10</td>\n",
       "      <td>2.194784e+10</td>\n",
       "    </tr>\n",
       "    <tr>\n",
       "      <th>6588</th>\n",
       "      <td>Zimbabwe</td>\n",
       "      <td>2018</td>\n",
       "      <td>11.854</td>\n",
       "      <td>7.101</td>\n",
       "      <td>0.697</td>\n",
       "      <td>4.056</td>\n",
       "      <td>4.056</td>\n",
       "      <td>14438812.00</td>\n",
       "      <td>14438812.0</td>\n",
       "      <td>2.271535e+10</td>\n",
       "      <td>2.271535e+10</td>\n",
       "    </tr>\n",
       "    <tr>\n",
       "      <th>6589</th>\n",
       "      <td>Zimbabwe</td>\n",
       "      <td>2019</td>\n",
       "      <td>10.949</td>\n",
       "      <td>6.020</td>\n",
       "      <td>0.697</td>\n",
       "      <td>4.232</td>\n",
       "      <td>4.232</td>\n",
       "      <td>14645473.00</td>\n",
       "      <td>14645473.0</td>\n",
       "      <td>1.464547e+07</td>\n",
       "      <td>1.464547e+07</td>\n",
       "    </tr>\n",
       "    <tr>\n",
       "      <th>6590</th>\n",
       "      <td>Zimbabwe</td>\n",
       "      <td>2020</td>\n",
       "      <td>10.531</td>\n",
       "      <td>6.257</td>\n",
       "      <td>0.697</td>\n",
       "      <td>3.576</td>\n",
       "      <td>3.576</td>\n",
       "      <td>14862927.00</td>\n",
       "      <td>14862927.0</td>\n",
       "      <td>1.486293e+07</td>\n",
       "      <td>1.486293e+07</td>\n",
       "    </tr>\n",
       "  </tbody>\n",
       "</table>\n",
       "<p>6591 rows × 11 columns</p>\n",
       "</div>"
      ],
      "text/plain": [
       "          country  year     co2  coal_co2  cement_co2  gas_co2  oil_co2  \\\n",
       "0     Afghanistan  1991   2.427     0.249       0.046    0.388    1.718   \n",
       "1     Afghanistan  1992   1.379     0.022       0.046    0.363    0.927   \n",
       "2     Afghanistan  1993   1.333     0.018       0.047    0.352    0.894   \n",
       "3     Afghanistan  1994   1.282     0.015       0.047    0.338    0.860   \n",
       "4     Afghanistan  1995   1.230     0.015       0.047    0.322    0.824   \n",
       "...           ...   ...     ...       ...         ...      ...      ...   \n",
       "6586     Zimbabwe  2016  10.738     6.959       0.639    3.139    3.139   \n",
       "6587     Zimbabwe  2017   9.582     5.665       0.678    3.239    3.239   \n",
       "6588     Zimbabwe  2018  11.854     7.101       0.697    4.056    4.056   \n",
       "6589     Zimbabwe  2019  10.949     6.020       0.697    4.232    4.232   \n",
       "6590     Zimbabwe  2020  10.531     6.257       0.697    3.576    3.576   \n",
       "\n",
       "          methane  population           gdp  primary_energy_consumption  \n",
       "0            9.07  13299016.0  1.204736e+10                1.365100e+01  \n",
       "1            9.00  14485543.0  1.267754e+10                8.961000e+00  \n",
       "2            8.90  15816601.0  9.834581e+09                8.935000e+00  \n",
       "3            8.97  17075728.0  7.919857e+09                8.617000e+00  \n",
       "4            9.15  18110662.0  1.230753e+10                7.246000e+00  \n",
       "...           ...         ...           ...                         ...  \n",
       "6586        11.92  14030338.0  2.096179e+10                4.750000e+01  \n",
       "6587  14236599.00  14236599.0  2.194784e+10                2.194784e+10  \n",
       "6588  14438812.00  14438812.0  2.271535e+10                2.271535e+10  \n",
       "6589  14645473.00  14645473.0  1.464547e+07                1.464547e+07  \n",
       "6590  14862927.00  14862927.0  1.486293e+07                1.486293e+07  \n",
       "\n",
       "[6591 rows x 11 columns]"
      ]
     },
     "execution_count": 3,
     "metadata": {},
     "output_type": "execute_result"
    }
   ],
   "source": [
    "df"
   ]
  },
  {
   "cell_type": "code",
   "execution_count": 4,
   "metadata": {
    "scrolled": true
   },
   "outputs": [
    {
     "data": {
      "image/png": "[encoded data removed]",
      "text/plain": [
       "<Figure size 1200x600 with 4 Axes>"
      ]
     },
     "metadata": {},
     "output_type": "display_data"
    }
   ],
   "source": [
    "# Visualization\n",
    "plt.figure(figsize=(12, 6))\n",
    "plt.subplot(2, 2, 1)\n",
    "sns.histplot(data=df, x='co2', bins=20, kde=True)\n",
    "plt.title('CO2 Emissions Distribution')\n",
    "\n",
    "plt.subplot(2, 2, 2)\n",
    "sns.histplot(data=df, x='population', bins=20, kde=True)\n",
    "plt.title('Population Distribution')\n",
    "\n",
    "plt.subplot(2, 2, 3)\n",
    "sns.histplot(data=df, x='gdp', bins=20, kde=True)\n",
    "plt.title('GDP Distribution')\n",
    "\n",
    "plt.subplot(2, 2, 4)\n",
    "sns.histplot(data=df, x='primary_energy_consumption', bins=20, kde=True)\n",
    "plt.title('Primary Energy Consumption Distribution')\n",
    "\n",
    "plt.tight_layout()\n",
    "plt.show()\n"
   ]
  },
  {
   "cell_type": "code",
   "execution_count": 8,
   "metadata": {
    "scrolled": true
   },
   "outputs": [
    {
     "ename": "ValueError",
     "evalue": "could not convert string to float: 'Afghanistan'",
     "output_type": "error",
     "traceback": [
      "\u001b[1;31m---------------------------------------------------------------------------\u001b[0m",
      "\u001b[1;31mValueError\u001b[0m                                Traceback (most recent call last)",
      "Cell \u001b[1;32mIn[8], line 2\u001b[0m\n\u001b[0;32m      1\u001b[0m \u001b[38;5;66;03m# Correlation Matrix Heatmap\u001b[39;00m\n\u001b[1;32m----> 2\u001b[0m correlation_matrix \u001b[38;5;241m=\u001b[39m df\u001b[38;5;241m.\u001b[39mcorr()\n\u001b[0;32m      3\u001b[0m plt\u001b[38;5;241m.\u001b[39mfigure(figsize\u001b[38;5;241m=\u001b[39m(\u001b[38;5;241m10\u001b[39m, \u001b[38;5;241m8\u001b[39m))\n\u001b[0;32m      4\u001b[0m sns\u001b[38;5;241m.\u001b[39mheatmap(correlation_matrix, annot\u001b[38;5;241m=\u001b[39m\u001b[38;5;28;01mTrue\u001b[39;00m, cmap\u001b[38;5;241m=\u001b[39m\u001b[38;5;124m'\u001b[39m\u001b[38;5;124mcoolwarm\u001b[39m\u001b[38;5;124m'\u001b[39m)\n",
      "File \u001b[1;32m~\\anaconda3\\Lib\\site-packages\\pandas\\core\\frame.py:11036\u001b[0m, in \u001b[0;36mDataFrame.corr\u001b[1;34m(self, method, min_periods, numeric_only)\u001b[0m\n\u001b[0;32m  11034\u001b[0m cols \u001b[38;5;241m=\u001b[39m data\u001b[38;5;241m.\u001b[39mcolumns\n\u001b[0;32m  11035\u001b[0m idx \u001b[38;5;241m=\u001b[39m cols\u001b[38;5;241m.\u001b[39mcopy()\n\u001b[1;32m> 11036\u001b[0m mat \u001b[38;5;241m=\u001b[39m data\u001b[38;5;241m.\u001b[39mto_numpy(dtype\u001b[38;5;241m=\u001b[39m\u001b[38;5;28mfloat\u001b[39m, na_value\u001b[38;5;241m=\u001b[39mnp\u001b[38;5;241m.\u001b[39mnan, copy\u001b[38;5;241m=\u001b[39m\u001b[38;5;28;01mFalse\u001b[39;00m)\n\u001b[0;32m  11038\u001b[0m \u001b[38;5;28;01mif\u001b[39;00m method \u001b[38;5;241m==\u001b[39m \u001b[38;5;124m\"\u001b[39m\u001b[38;5;124mpearson\u001b[39m\u001b[38;5;124m\"\u001b[39m:\n\u001b[0;32m  11039\u001b[0m     correl \u001b[38;5;241m=\u001b[39m libalgos\u001b[38;5;241m.\u001b[39mnancorr(mat, minp\u001b[38;5;241m=\u001b[39mmin_periods)\n",
      "File \u001b[1;32m~\\anaconda3\\Lib\\site-packages\\pandas\\core\\frame.py:1981\u001b[0m, in \u001b[0;36mDataFrame.to_numpy\u001b[1;34m(self, dtype, copy, na_value)\u001b[0m\n\u001b[0;32m   1979\u001b[0m \u001b[38;5;28;01mif\u001b[39;00m dtype \u001b[38;5;129;01mis\u001b[39;00m \u001b[38;5;129;01mnot\u001b[39;00m \u001b[38;5;28;01mNone\u001b[39;00m:\n\u001b[0;32m   1980\u001b[0m     dtype \u001b[38;5;241m=\u001b[39m np\u001b[38;5;241m.\u001b[39mdtype(dtype)\n\u001b[1;32m-> 1981\u001b[0m result \u001b[38;5;241m=\u001b[39m \u001b[38;5;28mself\u001b[39m\u001b[38;5;241m.\u001b[39m_mgr\u001b[38;5;241m.\u001b[39mas_array(dtype\u001b[38;5;241m=\u001b[39mdtype, copy\u001b[38;5;241m=\u001b[39mcopy, na_value\u001b[38;5;241m=\u001b[39mna_value)\n\u001b[0;32m   1982\u001b[0m \u001b[38;5;28;01mif\u001b[39;00m result\u001b[38;5;241m.\u001b[39mdtype \u001b[38;5;129;01mis\u001b[39;00m \u001b[38;5;129;01mnot\u001b[39;00m dtype:\n\u001b[0;32m   1983\u001b[0m     result \u001b[38;5;241m=\u001b[39m np\u001b[38;5;241m.\u001b[39marray(result, dtype\u001b[38;5;241m=\u001b[39mdtype, copy\u001b[38;5;241m=\u001b[39m\u001b[38;5;28;01mFalse\u001b[39;00m)\n",
      "File \u001b[1;32m~\\anaconda3\\Lib\\site-packages\\pandas\\core\\internals\\managers.py:1692\u001b[0m, in \u001b[0;36mBlockManager.as_array\u001b[1;34m(self, dtype, copy, na_value)\u001b[0m\n\u001b[0;32m   1690\u001b[0m         arr\u001b[38;5;241m.\u001b[39mflags\u001b[38;5;241m.\u001b[39mwriteable \u001b[38;5;241m=\u001b[39m \u001b[38;5;28;01mFalse\u001b[39;00m\n\u001b[0;32m   1691\u001b[0m \u001b[38;5;28;01melse\u001b[39;00m:\n\u001b[1;32m-> 1692\u001b[0m     arr \u001b[38;5;241m=\u001b[39m \u001b[38;5;28mself\u001b[39m\u001b[38;5;241m.\u001b[39m_interleave(dtype\u001b[38;5;241m=\u001b[39mdtype, na_value\u001b[38;5;241m=\u001b[39mna_value)\n\u001b[0;32m   1693\u001b[0m     \u001b[38;5;66;03m# The underlying data was copied within _interleave, so no need\u001b[39;00m\n\u001b[0;32m   1694\u001b[0m     \u001b[38;5;66;03m# to further copy if copy=True or setting na_value\u001b[39;00m\n\u001b[0;32m   1696\u001b[0m \u001b[38;5;28;01mif\u001b[39;00m na_value \u001b[38;5;129;01mis\u001b[39;00m lib\u001b[38;5;241m.\u001b[39mno_default:\n",
      "File \u001b[1;32m~\\anaconda3\\Lib\\site-packages\\pandas\\core\\internals\\managers.py:1751\u001b[0m, in \u001b[0;36mBlockManager._interleave\u001b[1;34m(self, dtype, na_value)\u001b[0m\n\u001b[0;32m   1749\u001b[0m     \u001b[38;5;28;01melse\u001b[39;00m:\n\u001b[0;32m   1750\u001b[0m         arr \u001b[38;5;241m=\u001b[39m blk\u001b[38;5;241m.\u001b[39mget_values(dtype)\n\u001b[1;32m-> 1751\u001b[0m     result[rl\u001b[38;5;241m.\u001b[39mindexer] \u001b[38;5;241m=\u001b[39m arr\n\u001b[0;32m   1752\u001b[0m     itemmask[rl\u001b[38;5;241m.\u001b[39mindexer] \u001b[38;5;241m=\u001b[39m \u001b[38;5;241m1\u001b[39m\n\u001b[0;32m   1754\u001b[0m \u001b[38;5;28;01mif\u001b[39;00m \u001b[38;5;129;01mnot\u001b[39;00m itemmask\u001b[38;5;241m.\u001b[39mall():\n",
      "\u001b[1;31mValueError\u001b[0m: could not convert string to float: 'Afghanistan'"
     ]
    }
   ],
   "source": [
    "# Correlation Matrix Heatmap\n",
    "correlation_matrix = df.corr()\n",
    "plt.figure(figsize=(10, 8))\n",
    "sns.heatmap(correlation_matrix, annot=True, cmap='coolwarm')\n",
    "plt.title('Correlation Matrix Heatmap')\n",
    "plt.show()"
   ]
  },
  {
   "cell_type": "code",
   "execution_count": null,
   "metadata": {},
   "outputs": [],
   "source": [
    "# Bar Plot: Top Countries by CO2 Emissions\n",
    "top_countries = df.groupby('country')['co2'].sum().sort_values(ascending=False).head(10)\n",
    "plt.figure(figsize=(10, 6))\n",
    "sns.barplot(x=top_countries.values, y=top_countries.index, palette='viridis')\n",
    "plt.title('Top Countries by Total CO2 Emissions')\n",
    "plt.xlabel('Total CO2 Emissions')\n",
    "plt.ylabel('Country')\n",
    "plt.tight_layout()\n",
    "plt.show()"
   ]
  },
  {
   "cell_type": "markdown",
   "metadata": {
    "id": "H9m46SOsqXuQ"
   },
   "source": [
    "### **3. Handling outlier from previous analysis**"
   ]
  },
  {
   "cell_type": "code",
   "execution_count": null,
   "metadata": {
    "id": "sDdCyecVtVyg"
   },
   "outputs": [],
   "source": [
    "#Select relevant features from previous analysis\n",
    "final_data = df[['country','year','co2','coal_co2','cement_co2','gas_co2','oil_co2','methane','population','gdp']]"
   ]
  },
  {
   "cell_type": "code",
   "execution_count": null,
   "metadata": {
    "id": "sbURLZvErgwA"
   },
   "outputs": [],
   "source": [
    "#Remove Outliers (countries) with significantly  high range features\n",
    "final_data = final_data[final_data['country'].isin(['Afghanistan', 'Albania', 'Algeria', 'Argentina', 'Armenia',\n",
    "       'Australia', 'Austria', 'Azerbaijan', 'Belarus', 'Belgium',\n",
    "       'Benin', 'Bolivia', 'Bosnia and Herzegovina', 'Botswana',\n",
    "       'Bulgaria', 'Cameroon', 'Canada', 'Chile', 'Colombia', 'Croatia',\n",
    "       'Cuba', 'Cyprus', 'Czechia', 'Denmark', 'Dominican Republic',\n",
    "       'Egypt', 'Estonia', 'Finland', 'France', 'Georgia', 'Ghana',\n",
    "       'Greece', 'Guatemala', 'Hungary', 'Iceland', 'Iraq', 'Ireland',\n",
    "       'Israel', 'Italy', 'Jamaica', 'Jordan', 'Kazakhstan', 'Kyrgyzstan',\n",
    "       'Latvia', 'Lebanon', 'Libya', 'Lithuania', 'Luxembourg',\n",
    "       'Malaysia', 'Mexico', 'Moldova', 'Morocco', 'Mozambique',\n",
    "       'Netherlands', 'New Zealand', 'North Macedonia', 'Norway',\n",
    "       'Panama', 'Peru', 'Philippines', 'Poland', 'Portugal', 'Romania',\n",
    "       'Rwanda', 'Senegal', 'Serbia', 'Slovakia', 'Slovenia',\n",
    "       'South Korea', 'Spain', 'Sweden', 'Switzerland', 'Syria',\n",
    "       'Tajikistan', 'Tanzania', 'Thailand', 'Tunisia', 'Turkey',\n",
    "       'Turkmenistan', 'Ukraine', 'United Arab Emirates',\n",
    "       'United Kingdom', 'Uruguay', 'Uzbekistan', 'Venezuela', 'Yemen'])]"
   ]
  },
  {
   "cell_type": "markdown",
   "metadata": {
    "id": "lDPtaT2wRTw8"
   },
   "source": [
    "### **4. Data Overview**"
   ]
  },
  {
   "cell_type": "code",
   "execution_count": null,
   "metadata": {
    "colab": {
     "base_uri": "https://localhost:8080/"
    },
    "id": "TEu2DNbyrDJm",
    "outputId": "664cf7fa-0ffe-4990-af21-399ace3a39fd"
   },
   "outputs": [],
   "source": [
    "final_data.shape"
   ]
  },
  {
   "cell_type": "code",
   "execution_count": null,
   "metadata": {
    "colab": {
     "base_uri": "https://localhost:8080/"
    },
    "id": "7eCU7GPzrWq9",
    "outputId": "1d977b11-8975-450f-cd63-c023eb8fc4ef"
   },
   "outputs": [],
   "source": [
    "print('Columns and thier data types')\n",
    "final_data.dtypes"
   ]
  },
  {
   "cell_type": "code",
   "execution_count": null,
   "metadata": {
    "colab": {
     "base_uri": "https://localhost:8080/",
     "height": 225
    },
    "id": "BDrYrPadt8XF",
    "outputId": "de6964e1-296e-4606-e3db-d0a21383f88b"
   },
   "outputs": [],
   "source": [
    "print('Data preview')\n",
    "final_data.head()"
   ]
  },
  {
   "cell_type": "code",
   "execution_count": null,
   "metadata": {
    "colab": {
     "base_uri": "https://localhost:8080/",
     "height": 319
    },
    "id": "yi6i6_KQuVqU",
    "outputId": "76489a06-80eb-460a-a753-7a0669c27e0c"
   },
   "outputs": [],
   "source": [
    "print('data statistics:')\n",
    "final_data.describe()"
   ]
  },
  {
   "cell_type": "code",
   "execution_count": null,
   "metadata": {
    "colab": {
     "base_uri": "https://localhost:8080/",
     "height": 1000
    },
    "id": "lcLDHrMhORnm",
    "outputId": "fd7967e4-f1d5-4665-dde3-957243c8b495"
   },
   "outputs": [],
   "source": [
    "print('A pairplot of selected features before dimention reduction')\n",
    "sns.pairplot(final_data[['co2', 'coal_co2', 'cement_co2', 'gas_co2', 'oil_co2', 'methane', 'population', 'gdp']],\n",
    "             diag_kind=\"kde\")"
   ]
  },
  {
   "cell_type": "markdown",
   "metadata": {
    "id": "hhbJfZgDnNwX"
   },
   "source": [
    "### **5. Dimentionality Reduction and multicollinearity solutions**\n",
    "- Since coal, oil, gas and cement co2 are multicolinear, we will add them up and make use of only the resultant added value.\n",
    "- More so, we will get the gdp per capita by dividing the gdp by the population.\n",
    "This is to ensure that there is no multicolinearity in our features and also that the dimensions too are thus reduced."
   ]
  },
  {
   "cell_type": "code",
   "execution_count": null,
   "metadata": {
    "colab": {
     "base_uri": "https://localhost:8080/",
     "height": 206
    },
    "id": "hgRVoVo0bxVU",
    "outputId": "3106c8f2-2655-4df0-8ee1-fe17a55bc63d"
   },
   "outputs": [],
   "source": [
    "#dimensionality reduction\n",
    "final_data['ccgo'] = final_data['cement_co2'] + final_data['gas_co2'] + final_data['oil_co2'] + final_data['coal_co2']\n",
    "final_data['gdp_per_capita'] = final_data['gdp'] / final_data['population']\n",
    "final_data.head()"
   ]
  },
  {
   "cell_type": "code",
   "execution_count": null,
   "metadata": {
    "colab": {
     "base_uri": "https://localhost:8080/",
     "height": 206
    },
    "id": "YqSFsKAucaW5",
    "outputId": "6033a565-150c-40e4-9dac-ea0da81a7c48"
   },
   "outputs": [],
   "source": [
    "data = final_data.drop(['cement_co2','gas_co2','oil_co2','coal_co2','gdp','population'],axis=1)\n",
    "data.head()"
   ]
  },
  {
   "cell_type": "code",
   "execution_count": null,
   "metadata": {},
   "outputs": [],
   "source": [
    "data.year.unique()"
   ]
  },
  {
   "cell_type": "markdown",
   "metadata": {},
   "source": [
    "Multicollinearity is a statistical phenomenon that occurs when two or more predictor variables in a regression model are highly correlated with each other. In other words, multicollinearity exists when there is a strong linear relationship between two or more independent variables. This can pose challenges and complications in statistical analysis, particularly in regression analysis, and it can impact the interpretation and reliability of the results."
   ]
  },
  {
   "cell_type": "markdown",
   "metadata": {
    "id": "JKWeZ8K7RnrC"
   },
   "source": [
    "#### **5.1 Cross checking multicolinearity with Variance inflator factor**"
   ]
  },
  {
   "cell_type": "code",
   "execution_count": null,
   "metadata": {
    "colab": {
     "base_uri": "https://localhost:8080/"
    },
    "id": "xNoVsZSPziyC",
    "outputId": "51a0668c-5008-41c4-c024-e9d871ed59e0"
   },
   "outputs": [],
   "source": [
    "# rechecking the Variance infllator factor for multicolinearity\n",
    "X = data.drop(['co2','country'], axis=1)\n",
    "# VIF dataframe\n",
    "vif_data = pd.DataFrame()\n",
    "vif_data[\"feature\"] = X.columns\n",
    "# calculating VIF for each feature\n",
    "vif_data[\"VIF\"] = [variance_inflation_factor(X.values, i) for i in range(len(X.columns))]\n",
    "print(vif_data)\n",
    "print('\\nThis indicates the absence of multicolinearity in our dataset')"
   ]
  },
  {
   "cell_type": "markdown",
   "metadata": {
    "id": "xizoxzuCviDP"
   },
   "source": [
    "\n",
    "***\n",
    "#### **6. Splitting the dataset into training and test data**"
   ]
  },
  {
   "cell_type": "code",
   "execution_count": null,
   "metadata": {
    "id": "ooin6zSDuseo"
   },
   "outputs": [],
   "source": [
    "ft_cols = ['year','methane','ccgo','gdp_per_capita']\n",
    "lb_col = ['co2']\n",
    "\n",
    "features = np.array(data[ft_cols])\n",
    "label = np.array(data[lb_col]).ravel()\n",
    "\n",
    "#Data splitting using sklearn train_test_split function\n",
    "ft_train,ft_test,lb_train,lb_test = ms.train_test_split(features,label,test_size=0.3\n",
    "                                                     ,shuffle = True, random_state= random_state)\n",
    "\n",
    "scaler = StandardScaler()\n",
    "scaler.fit(ft_train)\n",
    "\n",
    "ft_train_s = scaler.fit_transform(ft_train)\n",
    "ft_test_s = scaler.transform(ft_test)"
   ]
  },
  {
   "cell_type": "markdown",
   "metadata": {
    "id": "VkRg7Kg_Ax9u"
   },
   "source": [
    "# Using KNN"
   ]
  },
  {
   "cell_type": "code",
   "execution_count": null,
   "metadata": {
    "colab": {
     "base_uri": "https://localhost:8080/"
    },
    "id": "ci7oXpbKxh-R",
    "outputId": "7b722751-bcc0-4bbd-adaa-3f9cedb52921"
   },
   "outputs": [],
   "source": [
    "nr.seed(5)\n",
    "\n",
    "KNR = KNeighborsRegressor()\n",
    "\n",
    "k_parameters = {'n_neighbors': np.arange(1,40,1)}\n",
    "KNR_cv_model = ms.GridSearchCV(KNR, k_parameters, cv = 5)\n",
    "\n",
    "#Fitting the KNR model to the dataset\n",
    "KNR_cv_model.fit(ft_train_s, lb_train)\n",
    "\n",
    "#Best parameters\n",
    "KNR_cv_model.best_params_"
   ]
  },
  {
   "cell_type": "code",
   "execution_count": null,
   "metadata": {
    "colab": {
     "base_uri": "https://localhost:8080/",
     "height": 929
    },
    "id": "iSwYyHU8lnoA",
    "outputId": "fc7e3d05-f984-41f8-e55b-ca02cd6fa4ed"
   },
   "outputs": [],
   "source": [
    "# Tuned model\n",
    "KNR_tuned = KNR_cv_model.best_estimator_\n",
    "# plot predicted vs actual values\n",
    "predictions = KNR_tuned.predict(ft_test_s)\n",
    "f,ax=plt.subplots(figsize=(20,15))\n",
    "sns.set(font_scale=2)\n",
    "\n",
    "sns.regplot(x=predictions, y=np.transpose(lb_test), fit_reg=True)\n",
    "plt.xlabel(\"CO2 emissions [Mt] - predicted\")\n",
    "plt.ylabel(\"CO2 emissions [Mt] - actual\")\n",
    "plt.title(\"Pearsons Correlation coefficient R= {}\".format(round(np.corrcoef(predictions,np.transpose(lb_test))[0,1],2)))\n",
    "plt.show()"
   ]
  },
  {
   "cell_type": "code",
   "execution_count": null,
   "metadata": {
    "colab": {
     "base_uri": "https://localhost:8080/"
    },
    "id": "mTG_xsgs6pQC",
    "outputId": "3637d4ee-fdcd-47df-c2a3-f8706f5d857c"
   },
   "outputs": [],
   "source": [
    "# Model Evaluation\n",
    "test = lb_test\n",
    "predictions = KNR_tuned.predict(ft_test_s)\n",
    "print('Tuned KNeighborsRegressor')\n",
    "\n",
    "KNN_MAE = mean_absolute_error(test, predictions)\n",
    "print('MAE : {}'.format(KNN_MAE))\n",
    "KNN_MSE = mean_squared_error(test, predictions)\n",
    "print('MSE : {}'.format(KNN_MSE))\n",
    "KNN_RMSE = sqrt(KNN_MSE)\n",
    "print('RMSE : %f' % KNN_RMSE)\n",
    "KNN_R2_score = r2_score(test, predictions)\n",
    "print('R2_score : {}'.format(KNN_R2_score))\n",
    "frame = pd.DataFrame()\n",
    "frame['test'] = test\n",
    "frame['predictions'] = predictions\n"
   ]
  },
  {
   "cell_type": "markdown",
   "metadata": {
    "id": "CfL5kCVoFF5C"
   },
   "source": [
    "#### **7.2 Using Random Forest**"
   ]
  },
  {
   "cell_type": "code",
   "execution_count": null,
   "metadata": {
    "colab": {
     "base_uri": "https://localhost:8080/"
    },
    "id": "DStRoyg26pZt",
    "outputId": "bcc5cb75-c698-4cb6-d006-82f631cf34d8"
   },
   "outputs": [],
   "source": [
    "RFR = RandomForestRegressor(random_state = 42)\n",
    "#RFR_params = {'max_depth': list(range(1,10)),'max_features': [3],'n_estimators' : [10,20,30,40]}\n",
    "# Getting the best parameter using Grid Search\n",
    "#RFR_model = ms.GridSearchCV(RFR,RFR_params,cv = 5, n_jobs = -1,verbose = 2)\n",
    "RFR.fit(ft_train_s, lb_train)\n",
    "#Best parameters\n",
    "#RFR_model.best_params_ "
   ]
  },
  {
   "cell_type": "code",
   "execution_count": null,
   "metadata": {
    "colab": {
     "base_uri": "https://localhost:8080/",
     "height": 929
    },
    "id": "7yRQ68gAHwXi",
    "outputId": "581d6ded-6c2c-42c0-c8a5-6544e76d730a"
   },
   "outputs": [],
   "source": [
    "#RFR_tuned = RFR_model.best_estimator_\n",
    "# plot predicted vs actual values\n",
    "predictions1 = RFR.predict(ft_test_s)\n",
    "f,ax=plt.subplots(figsize=(20,15))\n",
    "sns.set(font_scale=2)\n",
    "\n",
    "sns.regplot(x=predictions1, y=np.transpose(lb_test), fit_reg=True)\n",
    "plt.xlabel(\"CO2 emissions [MT] - predicted\")\n",
    "plt.ylabel(\"CO2 emissions [MT] - actual\")\n",
    "plt.title(\"Pearsons Correlation coefficient R= {}\".format(round(np.corrcoef(predictions1,np.transpose(lb_test))[0,1],2)))\n",
    "plt.show()"
   ]
  },
  {
   "cell_type": "code",
   "execution_count": null,
   "metadata": {
    "colab": {
     "base_uri": "https://localhost:8080/"
    },
    "id": "Sigl0-3B6pkF",
    "outputId": "0367dd16-86c4-437e-b6d5-2d38bdfc6e59"
   },
   "outputs": [],
   "source": [
    "# Model Evaluation\n",
    "test = lb_test\n",
    "predictions1 = RFR.predict(ft_test_s)\n",
    "print('Tuned Random Forest')\n",
    "\n",
    "RF_MAE = mean_absolute_error(test, predictions1)\n",
    "print('MAE : {}'.format(RF_MAE))\n",
    "RF_MSE = mean_squared_error(test, predictions1)\n",
    "print('MSE : {}'.format(RF_MSE))\n",
    "RF_RMSE = sqrt(RF_MSE)\n",
    "print('RMSE : %f' % RF_RMSE)\n",
    "RF_R2_score = r2_score(test, predictions1)\n",
    "print('R2_score : {}'.format(RF_R2_score))\n",
    "frame = pd.DataFrame()\n",
    "frame['test'] = test\n",
    "frame['predictions'] = predictions1"
   ]
  },
  {
   "cell_type": "code",
   "execution_count": null,
   "metadata": {
    "colab": {
     "base_uri": "https://localhost:8080/",
     "height": 175
    },
    "id": "-dpas4DoHkkW",
    "outputId": "9b554357-cfae-4db6-ad4b-9a2ac90eb59d"
   },
   "outputs": [],
   "source": [
    "#Summary of model scores from different metrics\n",
    "KNN_model = KNN_MAE,KNN_MSE,KNN_RMSE,KNN_R2_score\n",
    "RF_model = RF_MAE,RF_MSE,RF_RMSE,RF_R2_score\n",
    "summary = pd.DataFrame([KNN_model,RF_model],\n",
    "                       index = ['KNN','RF'], \n",
    "                       columns = ['MAE','MSE','RMSE','R2_score'])\n",
    "summary"
   ]
  },
  {
   "cell_type": "code",
   "execution_count": null,
   "metadata": {
    "colab": {
     "base_uri": "https://localhost:8080/",
     "height": 713
    },
    "id": "1j8S5MxSZzex",
    "outputId": "5c1b7737-392c-42c4-8558-92b235e9fa30"
   },
   "outputs": [],
   "source": [
    "plt.figure(figsize=(10,6))\n",
    "plt.barh(width = summary['MAE'], y = summary.index)\n",
    "plt.xlabel(\"Mean Absolute Error [MT]\")\n",
    "plt.ylabel(\"Models\")\n",
    "plt.title(\"Mean absolute error of models [MT]\")"
   ]
  },
  {
   "cell_type": "code",
   "execution_count": null,
   "metadata": {
    "colab": {
     "base_uri": "https://localhost:8080/",
     "height": 713
    },
    "id": "P5NvFDcs52wZ",
    "outputId": "5bdb8abb-5a0f-43fb-f912-f7cd720d88f1"
   },
   "outputs": [],
   "source": [
    "plt.figure(figsize=(10,6))\n",
    "plt.barh(width = summary['MSE'], y = summary.index)\n",
    "plt.xlabel(\"Mean Squared Error [MT]\")\n",
    "plt.ylabel(\"Models\")\n",
    "plt.title(\"Mean Squared Error of models [MT]\")"
   ]
  },
  {
   "cell_type": "code",
   "execution_count": null,
   "metadata": {
    "colab": {
     "base_uri": "https://localhost:8080/",
     "height": 713
    },
    "id": "ZqRd_7ej52hh",
    "outputId": "bee01ba7-11f1-4b93-d014-3a9cdb88b68d"
   },
   "outputs": [],
   "source": [
    "plt.figure(figsize=(10,6))\n",
    "plt.barh(width = summary['RMSE'], y = summary.index)\n",
    "plt.xlabel(\"Root Mean Squared Error [MT]\")\n",
    "plt.ylabel(\"Models\")\n",
    "plt.title(\"Root Mean Squared Error of models [MT]\")"
   ]
  },
  {
   "cell_type": "code",
   "execution_count": null,
   "metadata": {
    "colab": {
     "base_uri": "https://localhost:8080/",
     "height": 713
    },
    "id": "pumE8fFn53eH",
    "outputId": "d5fd7f79-357e-4867-d02c-cbeb295e80ca",
    "scrolled": true
   },
   "outputs": [],
   "source": [
    "plt.figure(figsize=(10,6))\n",
    "plt.barh(width = summary['R2_score'], y = summary.index)\n",
    "plt.xlabel(\"R2 Score of models\")\n",
    "plt.ylabel(\"Models\")\n",
    "plt.title(\"Accuracy of models\")"
   ]
  },
  {
   "cell_type": "code",
   "execution_count": null,
   "metadata": {},
   "outputs": [],
   "source": [
    "# Plot the actual prices using a black line\n",
    "plt.plot(lb_test[0:20,] , color='Red')# label=f\"Actual {COMPANY} price\")\n",
    "\n",
    "# Plot the predicted prices using a green line\n",
    "plt.plot(predictions1[0:20,], color='green')#, label=f\"Predicted {COMPANY} price\")\n",
    "\n",
    "# Set the title of the plot using the company name\n",
    "plt.title(\"share price\")\n",
    "\n",
    "# Set the x-axis label as 'time'\n",
    "plt.xlabel(\"time\")\n",
    "\n",
    "# Set the y-axis label using the company name\n",
    "plt.ylabel(\"share price\")\n",
    "\n",
    "# Display a legend to differentiate the actual and predicted prices\n",
    "plt.legend()\n",
    "\n",
    "# Show the plot on the screen\n",
    "plt.show()"
   ]
  },
  {
   "cell_type": "code",
   "execution_count": null,
   "metadata": {},
   "outputs": [],
   "source": []
  },
  {
   "cell_type": "code",
   "execution_count": null,
   "metadata": {},
   "outputs": [],
   "source": []
  },
  {
   "cell_type": "code",
   "execution_count": null,
   "metadata": {},
   "outputs": [],
   "source": []
  },
  {
   "cell_type": "code",
   "execution_count": null,
   "metadata": {},
   "outputs": [],
   "source": []
  }
 ],
 "metadata": {
  "colab": {
   "collapsed_sections": [],
   "name": "CO2 Phase 3.ipynb",
   "provenance": []
  },
  "kernelspec": {
   "display_name": "Python 3 (ipykernel)",
   "language": "python",
   "name": "python3"
  },
  "language_info": {
   "codemirror_mode": {
    "name": "ipython",
    "version": 3
   },
   "file_extension": ".py",
   "mimetype": "text/x-python",
   "name": "python",
   "nbconvert_exporter": "python",
   "pygments_lexer": "ipython3",
   "version": "3.11.7"
  }
 },
 "nbformat": 4,
 "nbformat_minor": 4
}
